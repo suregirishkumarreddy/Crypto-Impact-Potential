{
 "cells": [
  {
   "cell_type": "code",
   "execution_count": 34,
   "metadata": {},
   "outputs": [],
   "source": [
    "import pandas as pd\n",
    "\n",
    "# Import the Crypto Coin Statistics file\n",
    "coin_stats_df = pd.read_csv('Coin-Statistics.csv')\n",
    "\n",
    "# Import the Index to Crypto Coins file\n",
    "index_to_coins_df = pd.read_csv('Index-to-Coins.csv')\n",
    "\n",
    "# Convert the Date format from MM/DD/YYYY to YYYY/MM/DD, using to_datetime method\n",
    "coin_stats_df['Date'] = pd.to_datetime(coin_stats_df['Date'],format=\"%m/%d/%Y\")\n",
    "\n",
    "# Merge Coin Statistics file and Index to Coins file to attach the Index Name and Corresponding Weightages\n",
    "result_df = pd.merge(coin_stats_df, index_to_coins_df, how='inner', left_on='Token', right_on='Name')[['Index','Name','Weightage','Date','Open','High','Low','Close','Volume','Market Cap']]\n",
    "\n",
    "# Multiply the Weightage to Open, High, Low and Close columns and Update the Result Dataframe with the results\n",
    "result_df.update(result_df[['Open','High','Low','Close']].multiply(result_df['Weightage']/100, axis='index'))\n",
    "\n",
    "# Aggregate the Index Prices (Open, High, Low and Close) to the Index and Date levels\n",
    "index_prices_df = result_df.groupby(by=['Index','Date']).agg({'Open':'sum', 'High':'sum', 'Low':'sum', 'Close':'sum'}).reset_index()\n",
    "\n",
    "# Sort the data on Index (Asc) and Date (Desc)\n",
    "index_prices_df.sort_values(by=['Index','Date'],ascending=[True,False],inplace=True)\n",
    "\n",
    "# Write the Historical Index Prices to a .csv file\n",
    "index_prices_df.to_csv('Index-Prices.csv',index=False)"
   ]
  },
  {
   "cell_type": "code",
   "execution_count": null,
   "metadata": {},
   "outputs": [],
   "source": []
  }
 ],
 "metadata": {
  "kernelspec": {
   "display_name": "Python 3",
   "language": "python",
   "name": "python3"
  },
  "language_info": {
   "codemirror_mode": {
    "name": "ipython",
    "version": 3
   },
   "file_extension": ".py",
   "mimetype": "text/x-python",
   "name": "python",
   "nbconvert_exporter": "python",
   "pygments_lexer": "ipython3",
   "version": "3.7.4"
  }
 },
 "nbformat": 4,
 "nbformat_minor": 2
}
